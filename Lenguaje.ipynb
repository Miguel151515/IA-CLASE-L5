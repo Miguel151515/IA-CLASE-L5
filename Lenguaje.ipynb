{
 "cells": [
  {
   "cell_type": "markdown",
   "metadata": {},
   "source": [
    "# Practica: Detecciond de lenguaje usando NLTK"
   ]
  },
  {
   "cell_type": "markdown",
   "metadata": {},
   "source": [
    "## Alumno: Miguel Adrian Martinez"
   ]
  },
  {
   "cell_type": "markdown",
   "metadata": {},
   "source": [
    "Phyton es uno de los lenguajes de programas mas potentes y populares. Como hemos visto hasta el dia de hoy se puede utilziar de muchas formas. Entre una de estas formas, se incluye la deteccion de idiomas. Es aqui en donde entran los algoritmos de PLN."
   ]
  },
  {
   "cell_type": "markdown",
   "metadata": {},
   "source": [
    "Los algoritmos de PLN tienen que modificarse para diferentes corpus y de acuerdo con la gramatica de diferentes idiomas. De acuerdo con el idioma que se este utilizando para realizar PLN, es el software o librerias que se debe seleccionar. Por ejemplo, NLTK es la libreria de procesamiento de lenguaje natural mas utilizada para el idioma ingles en Python. Sin embargo, FreeLing es de las mejores alternativas cuando estamos trabajando con español."
   ]
  },
  {
   "cell_type": "markdown",
   "metadata": {},
   "source": [
    "La eficiencia del procesamiento de lenguaje natural depende de varios factores. Un modelo con una calidad superior para el analisis de texto debe incluir lo siguiente:"
   ]
  },
  {
   "cell_type": "markdown",
   "metadata": {},
   "source": [
    "### 1. Extraccion del texto:"
   ]
  },
  {
   "cell_type": "markdown",
   "metadata": {},
   "source": [
    "El texto puede extraerse mediante desde una pagina o datos web, importandolo en un formato particular, tomandolo desde una de datos o a traves de una API."
   ]
  },
  {
   "cell_type": "markdown",
   "metadata": {},
   "source": [
    "### 2. Identificacion del texto: "
   ]
  },
  {
   "cell_type": "markdown",
   "metadata": {},
   "source": [
    "Es el proceso de separacion de texto relevante o de interes, del texto que nos añade ruido al analisis."
   ]
  },
  {
   "cell_type": "markdown",
   "metadata": {},
   "source": [
    "### 3. Procesamiento de Lenguaje Natural (PLN):"
   ]
  },
  {
   "cell_type": "markdown",
   "metadata": {},
   "source": [
    "Es el conjunto de algoritmos que admiten el procesamiento de diferentes idiomas o lenguajes."
   ]
  },
  {
   "cell_type": "markdown",
   "metadata": {},
   "source": [
    "### 4. Aprendizaje automatico:"
   ]
  },
  {
   "cell_type": "markdown",
   "metadata": {},
   "source": [
    "Es un paso escencial para lograr objetivos como la colaboracion, el analisis de sentimientos y la agrupacion."
   ]
  },
  {
   "cell_type": "markdown",
   "metadata": {},
   "source": [
    "### Combinacion de Python y NLTK para la deteccion del lenguaje:"
   ]
  },
  {
   "cell_type": "markdown",
   "metadata": {},
   "source": [
    "La mayoria de las personas utilizan motores de busqueda y redes sociales. Los cuales se muestran en diferentes lengujes. Entre ellos español e ingles.\n",
    "Para lograr este proceso, un texto indexado debe examinarse bien, lo que da como resultado el contenido mostrado por estos motores y redes sociales.\n",
    "Existen muchas maneras de lograr este objetivo, la forma mas facil de hacerlo es mediante el enfoque basado en \"stop words\".\n",
    "\"Stopword\" se usa en el procesamiento de lenguaje natural para mencionar palabras que se deben filtrar del texto antes de que tenga lugar cualquier tipo de procesamiento.\n",
    "Ahora, tenemos un texto para detectar el idioma. El paso basico es Tokenizar el texto dado una lista de \"palabras\" y \"tokens\", utilizando un enfoque que depende de los requerimientos."
   ]
  },
  {
   "cell_type": "markdown",
   "metadata": {},
   "source": [
    "### El siguiente ejemplo de deteccion de lenguaje utiliza NLTK y Python:"
   ]
  },
  {
   "cell_type": "code",
   "execution_count": 3,
   "metadata": {},
   "outputs": [
    {
     "name": "stdout",
     "output_type": "stream",
     "text": [
      "Cadena de texto: Hello my name is Miguel Martinez\t Lenguaje: english\n",
      "\n",
      "Cadena de texto: Hola mi nombre es Miguel Martinez\t Lenguaje: spanish\n",
      "\n",
      "Cadena de texto: Bonjour mon nom est Miguel Martinez\t Lenguaje: french\n",
      "\n",
      "Cadena de texto: Hallo mein Name is Miguel Martinez\t Lenguaje: dutch\n"
     ]
    }
   ],
   "source": [
    "from nltk import *\n",
    "from nltk.corpus import *\n",
    "\n",
    "def lang_ratio(input):\n",
    "    lang_ratio = {}\n",
    "    tokens = wordpunct_tokenize(input)\n",
    "    words = [word.lower() for word in tokens]\n",
    "    for language in stopwords.fileids():\n",
    "        stopwords_set = set(stopwords.words(language))\n",
    "        words_set = set(words)\n",
    "        common_elements = words_set.intersection(stopwords_set)\n",
    "        lang_ratio[language] = len(common_elements)\n",
    "    return lang_ratio\n",
    "\n",
    "def detect_language(input):\n",
    "    ratios = lang_ratio(input)\n",
    "    language = max(ratios, key=ratios.get)\n",
    "    return language\n",
    "\n",
    "input1 = \"Hello my name is Miguel Martinez\"\n",
    "input2 = \"Hola mi nombre es Miguel Martinez\"\n",
    "input3 = \"Bonjour mon nom est Miguel Martinez\"\n",
    "input4 = \"Hallo mein Name is Miguel Martinez\"\n",
    "\n",
    "language = detect_language(input1)\n",
    "print ('Cadena de texto: ' + input1 + '\\t Lenguaje: ' + language)\n",
    "\n",
    "language = detect_language(input2)\n",
    "print ('\\n'+ 'Cadena de texto: ' + input2 + '\\t Lenguaje: ' + language)\n",
    "\n",
    "language = detect_language(input3)\n",
    "print ('\\n'+ 'Cadena de texto: ' + input3 + '\\t Lenguaje: ' + language)\n",
    "\n",
    "language = detect_language(input4)\n",
    "print ('\\n'+ 'Cadena de texto: ' + input4 + '\\t Lenguaje: ' + language)"
   ]
  }
 ],
 "metadata": {
  "kernelspec": {
   "display_name": "Python 3",
   "language": "python",
   "name": "python3"
  },
  "language_info": {
   "codemirror_mode": {
    "name": "ipython",
    "version": 3
   },
   "file_extension": ".py",
   "mimetype": "text/x-python",
   "name": "python",
   "nbconvert_exporter": "python",
   "pygments_lexer": "ipython3",
   "version": "3.7.6"
  }
 },
 "nbformat": 4,
 "nbformat_minor": 4
}
